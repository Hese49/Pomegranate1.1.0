{
 "cells": [
  {
   "cell_type": "markdown",
   "id": "6b6ebb26",
   "metadata": {},
   "source": [
    "### Bayesian Networks 2\n",
    "**Pomegranate 1.1.0**\n"
   ]
  },
  {
   "cell_type": "markdown",
   "id": "ba2988db",
   "metadata": {},
   "source": [
    "This text and the picture comes from **Nicolas Bertagnolli** https://www.nbertagnolli.com/jekyll/update/2016/05/23/Bayes_Nets.html\n",
    "\n",
    "Imagine that we are doctors and we want to **predict** whether or not a patient will have\n",
    "a **heart attack**. We have a few pieces of information that we can collect like the patients\n",
    "**cholesterol**, whether or not they **smoke**, their **blood pressure**, and whether or not they **exercise**.\n",
    "\n",
    "We’re doctors and we know some things about this disease. For example, we know that blood\n",
    "pressure is directly related to heart attacks and that both exercise and smoking can affect\n",
    "blood pressure. Thus we can build a model like the one in Figure where we use our domain\n",
    "knowledge to describe the interactions between our features.\n",
    "\n",
    "This picture shows us a number of things about our problem and our assumptions. First off we\n",
    "see the prior probabilities of the individual being a smoker, and whether or not they exercise. \n",
    "We can see that being a smoker affects the individuals cholesterol level influencing whether\n",
    "it is either high (T) or low (F). We also see that the blood pressure is directly influenced\n",
    "by exercise and smoking habits, and that blood pressure influences whether or not our patient\n",
    "is going to have a heart attack."
   ]
  },
  {
   "cell_type": "markdown",
   "id": "dde47522",
   "metadata": {},
   "source": [
    "<img src=\"Pomegr_Bayes5.png\" alt=\"drawing\" width=\"500\"/>"
   ]
  },
  {
   "cell_type": "code",
   "execution_count": 1,
   "id": "1e127181",
   "metadata": {},
   "outputs": [],
   "source": [
    "# INIT\n",
    "import torch\n",
    "import numpy\n",
    "from pomegranate.distributions import Categorical\n",
    "from pomegranate.distributions import ConditionalCategorical\n",
    "from pomegranate.bayesian_network import BayesianNetwork\n",
    "from pomegranate.bayes_classifier import BayesClassifier\n",
    "from pomegranate.distributions import *\n",
    "\n"
   ]
  },
  {
   "cell_type": "code",
   "execution_count": 2,
   "id": "5ef37ddf",
   "metadata": {},
   "outputs": [],
   "source": [
    "# MODEL DEFINITION\n",
    "# Let's use the notation F=False=0 and T=True=1   \n",
    "\n",
    "# A priori probabilities for nodes E and S:\n",
    "#                 [P(0), P(1)]\n",
    "E = Categorical([[0.60, 0.40]])                   \n",
    "S = Categorical([[0.85, 0.15]])                  \n",
    "\n",
    "# Conditional probabilities for nodes B: P(B|ES)\n",
    "#  [[P(0|00), P(1|00)],  [P(0|01), P(1|01)]],\n",
    "#  [[P(0|10), P(1|10)],  [P(0|11), P(1|11)]]\n",
    "B_probs = numpy.array([[\n",
    "     [[0.45, 0.55], [0.05, 0.95]], \n",
    "     [[0.95, 0.05], [0.55, 0.45 ]],\n",
    "     ]])  \n",
    "B = ConditionalCategorical(B_probs)\n",
    "\n",
    "C = ConditionalCategorical([[[0.60, 0.40], [0.20, 0.80]]])\n",
    "#                [P(C=0|S=0), P(C=1|S=0)], [P(C=0|S=1), P(C=1|S=1)]\n",
    "\n",
    "A = ConditionalCategorical([[[0.95, 0.05], [0.25, 0.75]]])\n",
    "#                [P(A=0|B=0), P(A=1|B=0)], [P(A=0|B=1), P(A=1|B=1)]\n",
    "                               \n",
    "model = BayesianNetwork([E, S, B, C, A], [(E, B), (S, B), (S, C), (B, A)]) \n",
    "#                nodes:  0  1  2  3  4                   edges                               \n"
   ]
  },
  {
   "cell_type": "code",
   "execution_count": 3,
   "id": "441c44ae",
   "metadata": {},
   "outputs": [
    {
     "name": "stdout",
     "output_type": "stream",
     "text": [
      "Probability distribution tensors E S B C A\n",
      "\n",
      "tensor([0.6000, 0.4000])\n",
      "tensor([0.8500, 0.1500])\n",
      "Parameter containing:\n",
      "tensor([[[0.4500, 0.5500],\n",
      "         [0.0500, 0.9500]],\n",
      "\n",
      "        [[0.9500, 0.0500],\n",
      "         [0.5500, 0.4500]]], dtype=torch.float64)\n",
      "Parameter containing:\n",
      "tensor([[0.6000, 0.4000],\n",
      "        [0.2000, 0.8000]])\n",
      "Parameter containing:\n",
      "tensor([[0.9500, 0.0500],\n",
      "        [0.2500, 0.7500]])\n",
      "\n",
      "[0.95 0.05]\n",
      "0.05\n"
     ]
    }
   ],
   "source": [
    "print('Probability distribution tensors E S B C A')\n",
    "print()\n",
    "print(model.distributions[0].probs[0])  \n",
    "print(model.distributions[1].probs[0])  \n",
    "print(model.distributions[2].probs[0])  \n",
    "print(model.distributions[3].probs[0])  \n",
    "print(model.distributions[4].probs[0])  \n",
    "print()\n",
    "\n",
    "# How to get the probability values out from tensor B\n",
    "print(model.distributions[2].probs[0][1][0].numpy() )\n",
    "print(model.distributions[2].probs[0][1][0][1].numpy() )"
   ]
  },
  {
   "cell_type": "code",
   "execution_count": 12,
   "id": "f466bbf1",
   "metadata": {},
   "outputs": [
    {
     "data": {
      "text/plain": [
       "[tensor([[0.6000, 0.4000],\n",
       "         [0.6000, 0.4000]]),\n",
       " tensor([[1., 0.],\n",
       "         [0., 1.]]),\n",
       " tensor([[0.6500, 0.3500],\n",
       "         [0.2500, 0.7500]]),\n",
       " tensor([[0.6000, 0.4000],\n",
       "         [0.2000, 0.8000]]),\n",
       " tensor([[0.7050, 0.2950],\n",
       "         [0.4250, 0.5750]])]"
      ]
     },
     "execution_count": 12,
     "metadata": {},
     "output_type": "execute_result"
    }
   ],
   "source": [
    "#CAUSAL REASONING\n",
    "\n",
    "# What is known?\n",
    "# Mark known nodes with their values and unknown ones with -1.\n",
    "# Let’s assume that all we know about the patient if he is a smoker (S=1) or not (S=0).\n",
    "# So we have two cases:\n",
    "#                   E  S   B   C   A\n",
    "X = torch.tensor([[-1, 0, -1, -1, -1],\n",
    "                  [-1, 1, -1, -1, -1]])                 \n",
    "\n",
    "# Create a mask tensor from X\n",
    "X_masked = torch.masked.MaskedTensor(X, mask = X >= 0)\n",
    "print()\n",
    "model.predict_proba(X_masked)"
   ]
  },
  {
   "cell_type": "markdown",
   "id": "6a6b1c71",
   "metadata": {},
   "source": [
    "<img src=\"Pomegr_Bayes5.png\" alt=\"drawing\" width=\"500\"/>"
   ]
  },
  {
   "cell_type": "code",
   "execution_count": 5,
   "id": "a211d58f",
   "metadata": {},
   "outputs": [
    {
     "data": {
      "text/plain": [
       "tensor([[0, 0, 0, 0, 0],\n",
       "        [0, 1, 1, 1, 1]])"
      ]
     },
     "execution_count": 5,
     "metadata": {},
     "output_type": "execute_result"
    }
   ],
   "source": [
    " # The most probable states for the network can now be calculated for non smoker and smoker\n",
    "model.predict(X_masked) "
   ]
  },
  {
   "cell_type": "code",
   "execution_count": 15,
   "id": "687f5f0b",
   "metadata": {},
   "outputs": [
    {
     "name": "stdout",
     "output_type": "stream",
     "text": [
      "            P(0)   P(1)       E S B C A\n"
     ]
    },
    {
     "data": {
      "text/plain": [
       "[tensor([[0.6000, 0.4000],\n",
       "         [0.6000, 0.4000]]),\n",
       " tensor([[1., 0.],\n",
       "         [0., 1.]]),\n",
       " tensor([[0.6500, 0.3500],\n",
       "         [0.2500, 0.7500]]),\n",
       " tensor([[0.6000, 0.4000],\n",
       "         [0.2000, 0.8000]]),\n",
       " tensor([[0.7050, 0.2950],\n",
       "         [0.4250, 0.5750]])]"
      ]
     },
     "execution_count": 15,
     "metadata": {},
     "output_type": "execute_result"
    }
   ],
   "source": [
    "# Probabilities for each node to be in state 0 or 1.\n",
    "print('            P(0)   P(1)       E S B C A')\n",
    "pred = model.predict_proba(X_masked)\n",
    "pred"
   ]
  },
  {
   "cell_type": "markdown",
   "id": "f82535a9",
   "metadata": {},
   "source": [
    "Above, the upper row in each tensor is for a 'non-smoker' (S=0)  and the lower row for a smoker (S=1). <br> \n",
    "The numbers in brackets are &nbsp; [P(0), P(1)]  &nbsp; where &nbsp; P(0)+ P(1) = 1\n",
    "1. Tensor. The a priori probabilities of node E as such.\n",
    "2. Tensor. The probabilities of node S are known: for a smoker [P(S=0) = 0, P(S=1) = 1]\n",
    "3. Tensor. Node B: For a smoker P(B=1|S=1) = 0.75\n",
    "4. Tensor. The probabilities of node C come directly from the probability distribution of C.\n",
    "5. Tensor. Node A: The probability of a non-smoker having an attack is only 0.295 in comparison\n",
    "   to 0.575 of a smoker."
   ]
  },
  {
   "cell_type": "code",
   "execution_count": 7,
   "id": "11c24717",
   "metadata": {},
   "outputs": [
    {
     "name": "stdout",
     "output_type": "stream",
     "text": [
      "For a smoker, [P(A=0|S=1, P(A=1|S=1]  is [0.425 0.575]\n",
      "For a smoker, the probability of an attack is 0.575\n"
     ]
    }
   ],
   "source": [
    "# Taking a values out of the Torch tensor\n",
    "print('For a smoker, [P(A=0|S=1, P(A=1|S=1]  is', pred[4][1].numpy())\n",
    "print('For a smoker, the probability of an attack is', pred[4][1][1].numpy())\n",
    "# OBS! print(torch.tensor([0.0243]).item())  # When there is only one item in the tensor."
   ]
  },
  {
   "cell_type": "code",
   "execution_count": 8,
   "id": "682db864",
   "metadata": {},
   "outputs": [
    {
     "name": "stdout",
     "output_type": "stream",
     "text": [
      "With both risk factors the probability of an attack is 0.715\n"
     ]
    }
   ],
   "source": [
    "# With both risk factors E=0 and S=1\n",
    "#                  E  S   B   C   A\n",
    "X = torch.tensor([[0, 1, -1, -1, -1]])\n",
    "X_masked = torch.masked.MaskedTensor(X, mask = X >= 0)\n",
    "pred = model.predict_proba(X_masked)\n",
    "print('With both risk factors the probability of an attack is', pred[4][0][1].numpy())"
   ]
  },
  {
   "cell_type": "code",
   "execution_count": 9,
   "id": "1190495e",
   "metadata": {},
   "outputs": [
    {
     "name": "stdout",
     "output_type": "stream",
     "text": [
      "The probability of high blood pressure is 0.9124629\n"
     ]
    }
   ],
   "source": [
    "# EVIDENTIAL REASONING\n",
    "# We will use the evidence of a heart attack to better understand the patients initial state.\n",
    "\n",
    "# The person had an attack and died. What is the probability that he had high blood pressure?\n",
    "#                   E   S   B   C  A\n",
    "X = torch.tensor([[-1, -1, -1, -1, 1]])\n",
    "X_masked = torch.masked.MaskedTensor(X, mask = X >= 0)\n",
    "pred = model.predict_proba(X_masked)\n",
    "print('The probability of high blood pressure is', pred[2][0][1].numpy())"
   ]
  },
  {
   "cell_type": "code",
   "execution_count": 10,
   "id": "eaca9f5f",
   "metadata": {},
   "outputs": [
    {
     "name": "stdout",
     "output_type": "stream",
     "text": [
      "P(E=1|B=1) = 0.11\n",
      "P(E=1|B=1,S=1) = 0.24\n"
     ]
    }
   ],
   "source": [
    "# INTERCAUSAL REASONING\n",
    "# Information flows between two otherwise independent pieces of evidence.\n",
    "\n",
    "# It is known that the patient has high blood pressure (B=1).  \n",
    "# Let's compare the probability of exercise P(E=1) in situations where is\n",
    "# a) not known about smoking (S=-1)\n",
    "# b) known to smoke (S=1)\n",
    "# The state vectors of the both network situations are below.\n",
    "#                   E   S  B   C   A\n",
    "X = torch.tensor([[-1, -1, 1, -1, -1],\n",
    "                  [-1,  1, 1, -1, -1]\n",
    "                 ])\n",
    "X_masked = torch.masked.MaskedTensor(X, mask = X >= 0)\n",
    "#model.predict_proba(X_masked)\n",
    "P0 = model.predict_proba(X_masked)[0][0][1].item()          # a)\n",
    "print('P(E=1|B=1) =', round(P0, 2))                       \n",
    "P1 = model.predict_proba(X_masked)[0][1][1].item()          # b)\n",
    "print('P(E=1|B=1,S=1) =',round(P1, 3))                      \n"
   ]
  },
  {
   "cell_type": "markdown",
   "id": "fc364a38",
   "metadata": {},
   "source": [
    "It is noticed  from above that information S=1 (smoker) has flowed to node E, where the probability of exercise has more than doubled even though the nodes E and S are not causally connected in the first place."
   ]
  },
  {
   "attachments": {},
   "cell_type": "markdown",
   "id": "067676ae",
   "metadata": {},
   "source": [
    "<img src=\"Pomegr_Bayes5.png\" alt=\"drawing\" width=\"500\"/>"
   ]
  },
  {
   "cell_type": "markdown",
   "id": "78ffa585",
   "metadata": {},
   "source": [
    "Heikki Miettinen 2024"
   ]
  },
  {
   "cell_type": "code",
   "execution_count": null,
   "id": "90db43f7",
   "metadata": {},
   "outputs": [],
   "source": []
  }
 ],
 "metadata": {
  "kernelspec": {
   "display_name": "Python 3 (ipykernel)",
   "language": "python",
   "name": "python3"
  },
  "language_info": {
   "codemirror_mode": {
    "name": "ipython",
    "version": 3
   },
   "file_extension": ".py",
   "mimetype": "text/x-python",
   "name": "python",
   "nbconvert_exporter": "python",
   "pygments_lexer": "ipython3",
   "version": "3.11.5"
  }
 },
 "nbformat": 4,
 "nbformat_minor": 5
}
